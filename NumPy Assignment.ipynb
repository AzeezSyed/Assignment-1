{
 "cells": [
  {
   "cell_type": "markdown",
   "metadata": {},
   "source": [
    "# NumPy Assignment"
   ]
  },
  {
   "cell_type": "code",
   "execution_count": 1,
   "metadata": {},
   "outputs": [],
   "source": [
    "import numpy as np"
   ]
  },
  {
   "cell_type": "markdown",
   "metadata": {},
   "source": [
    "1. Write a function so that the columns of the output matrix are powers of the input\n",
    "vector.\n",
    "\n",
    "    The order of the powers is determined by the increasing boolean argument. Specifically, when\n",
    "increasing is False, the i-th output column is the input vector raised element-wise to the power\n",
    "of N - i - 1.\n",
    "\n",
    "    HINT: Such a matrix with a geometric progression in each row is named for Alexandre-\n",
    "Theophile Vandermonde."
   ]
  },
  {
   "cell_type": "code",
   "execution_count": 50,
   "metadata": {},
   "outputs": [
    {
     "data": {
      "text/plain": [
       "array([[ 1,  1,  1],\n",
       "       [ 4,  2,  1],\n",
       "       [ 9,  3,  1],\n",
       "       [25,  5,  1]])"
      ]
     },
     "execution_count": 50,
     "metadata": {},
     "output_type": "execute_result"
    }
   ],
   "source": [
    "x = np.array([1, 2, 3, 5])\n",
    "N = 3\n",
    "np.vander(x, N,increasing=False) # predefined vander function in numpy"
   ]
  },
  {
   "cell_type": "markdown",
   "metadata": {},
   "source": [
    "My Soultion:"
   ]
  },
  {
   "cell_type": "code",
   "execution_count": 52,
   "metadata": {},
   "outputs": [],
   "source": [
    "# custom vander function of vander function in numpy\n",
    "def generate_vander_matrix(inputvector, n, increase=False):\n",
    "    \n",
    "    if not increase: # when increase is False, i-th output column is the input vector raised element-wise to the power of (N - i - 1)\n",
    "        output_matx = np.array([value**(n-1-i) for value in inputvector for i in range(n)]).reshape(inputvector.size,n)\n",
    "        \n",
    "    elif increase: # when increase is True\n",
    "        output_matx = np.array([value**i for value in inputvector for i in range(n)]).reshape(inputvector.size,n)\n",
    "    \n",
    "    return output_matx"
   ]
  },
  {
   "cell_type": "code",
   "execution_count": 55,
   "metadata": {},
   "outputs": [
    {
     "name": "stdout",
     "output_type": "stream",
     "text": [
      "Output:\n",
      "\n",
      "The input vector is: [1 2 3 4 5] \n",
      "\n",
      "Number of columns in output matrix should be: 4 \n",
      "\n",
      "Vander matrix of the input array in decreasing order of powers:\n",
      " [[  1   1   1   1]\n",
      " [  8   4   2   1]\n",
      " [ 27   9   3   1]\n",
      " [ 64  16   4   1]\n",
      " [125  25   5   1]] \n",
      "\n",
      "Vander matrix of the input array in increasing order of powers:\n",
      " [[  1   1   1   1]\n",
      " [  1   2   4   8]\n",
      " [  1   3   9  27]\n",
      " [  1   4  16  64]\n",
      " [  1   5  25 125]] \n",
      "\n"
     ]
    }
   ],
   "source": [
    "print(\"Output:\\n\")\n",
    "\n",
    "inputvector = np.array([1, 2, 3, 4, 5])\n",
    "no_col_output_matx = 4\n",
    "\n",
    "# for decrease vender order\n",
    "output_matx_decrese_order = generate_vander_matrix(inputvector,no_col_output_matx,False)\n",
    "\n",
    "# for increase vender order\n",
    "output_matx_increse_order = generate_vander_matrix(inputvector,no_col_output_matx,True)\n",
    "\n",
    "print(f\"The input vector is: {inputvector} \\n\")\n",
    "\n",
    "print(\"Number of columns in output matrix should be:\",no_col_output_matx,\"\\n\")\n",
    "\n",
    "print(\"Vander matrix of the input array in decreasing order of powers:\\n\",output_matx_decrese_order,\"\\n\")\n",
    "\n",
    "print(\"Vander matrix of the input array in increasing order of powers:\\n\",output_matx_increse_order,\"\\n\")"
   ]
  },
  {
   "cell_type": "code",
   "execution_count": null,
   "metadata": {},
   "outputs": [],
   "source": []
  },
  {
   "cell_type": "markdown",
   "metadata": {},
   "source": [
    "2. Problem Statement 2:\n",
    "    Given a sequence of n values x1, x2, ..., xn and a window size k>0, the k-th moving average of\n",
    "the given sequence is defined as follows:\n",
    "\n",
    "    The moving average sequence has n-k+1 elements as shown below.\n",
    "    \n",
    "    The moving averages with k=4 of a ten-value sequence (n=10) is shown below\n",
    "    \n",
    "    i 1 2 3 4 5 6 7 8 9 10\n",
    "    \n",
    "    ===== == == == == == == == == == ==\n",
    "    \n",
    "    Input 10 20 30 40 50 60 70 80 90 100\n",
    "    \n",
    "    y1 25 = (10+20+30+40)/4\n",
    "    \n",
    "    y2 35 = (20+30+40+50)/4\n",
    "    \n",
    "    y3 45 = (30+40+50+60)/4\n",
    "    \n",
    "    y4 55 = (40+50+60+70)/4\n",
    "    \n",
    "    y5 65 = (50+60+70+80)/4\n",
    "    \n",
    "    y6 75 = (60+70+80+90)/4\n",
    "    \n",
    "    y7 85 = (70+80+90+100)/4\n",
    "    \n",
    "    Thus, the moving average sequence has n-k+1=10-4+1=7 values."
   ]
  },
  {
   "cell_type": "markdown",
   "metadata": {},
   "source": [
    "    Question: Write a function to find moving average in an array over a window:\n",
    "\n",
    "    Test it over [3, 5, 7, 2, 8, 10, 11, 65, 72, 81, 99, 100, 150] and window of 3."
   ]
  },
  {
   "cell_type": "markdown",
   "metadata": {},
   "source": [
    "Solution:"
   ]
  },
  {
   "cell_type": "code",
   "execution_count": 71,
   "metadata": {},
   "outputs": [
    {
     "name": "stdout",
     "output_type": "stream",
     "text": [
      "The moving average sequence has (n-k+1=) 11 values \n",
      "\n",
      "Movies Averages are:\n",
      " [5.0, 4.666666666666667, 5.666666666666667, 6.666666666666667, 9.666666666666666, 28.666666666666668, 49.333333333333336, 72.66666666666667, 84.0, 93.33333333333333, 116.33333333333333]\n"
     ]
    }
   ],
   "source": [
    "input_list = [3, 5, 7, 2, 8, 10, 11, 65, 72, 81, 99, 100, 150]\n",
    "\n",
    "N = 3 # window of 3\n",
    "\n",
    "cumsum = [0] \n",
    "moving_averages = []\n",
    "\n",
    "for i, x in enumerate(input_list, 1):\n",
    "    cumsum.append(cumsum[i-1] + x)\n",
    "    if i>=N:\n",
    "        moving_average = (cumsum[i] - cumsum[i-N])/N\n",
    "       \n",
    "        moving_averages.append(moving_average)\n",
    "\n",
    "print(f\"The moving average sequence has (n-k+1=) {len(input_list) - N + 1} values \\n\")\n",
    "\n",
    "print(\"Movies Averages are:\\n\", moving_averages)"
   ]
  },
  {
   "cell_type": "code",
   "execution_count": null,
   "metadata": {},
   "outputs": [],
   "source": []
  }
 ],
 "metadata": {
  "kernelspec": {
   "display_name": "Python 3",
   "language": "python",
   "name": "python3"
  },
  "language_info": {
   "codemirror_mode": {
    "name": "ipython",
    "version": 3
   },
   "file_extension": ".py",
   "mimetype": "text/x-python",
   "name": "python",
   "nbconvert_exporter": "python",
   "pygments_lexer": "ipython3",
   "version": "3.8.5"
  }
 },
 "nbformat": 4,
 "nbformat_minor": 4
}
