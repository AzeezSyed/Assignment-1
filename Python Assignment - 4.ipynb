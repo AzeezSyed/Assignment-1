{
 "cells": [
  {
   "cell_type": "markdown",
   "metadata": {},
   "source": [
    "## Python Assignment - 4 "
   ]
  },
  {
   "cell_type": "markdown",
   "metadata": {},
   "source": [
    "1.1 Write a Python Program(with class concepts) to find the area of the triangle using the below\n",
    "formula.\n",
    "\n",
    "    area = (s*(s-a)*(s-b)*(s-c)) ** 0.5\n",
    "\n",
    "    Function to take the length of the sides of triangle from user should be defined in the parent class and function to calculate the area should be defined in subclass."
   ]
  },
  {
   "cell_type": "code",
   "execution_count": 25,
   "metadata": {},
   "outputs": [
    {
     "name": "stdout",
     "output_type": "stream",
     "text": [
      "Enter a value: 3\n",
      "Enter b value: 6\n",
      "Enter c value: 7\n",
      "8.94427190999916\n"
     ]
    }
   ],
   "source": [
    "class Triangle():  # Parent Class\n",
    "    def __init__(self):\n",
    "        self.a = float(input('Enter a value: '))\n",
    "        self.b = float(input('Enter b value: '))\n",
    "        self.c = float(input('Enter c value: '))\n",
    "        self.s = (self.a+self.b+self.c)* 0.5 # where s is the semi-perimeter => (a+b+c)/2\n",
    "        \n",
    "    \n",
    "class Area_Of_Triangle(Triangle):  # Sub Class\n",
    "    def areaoftriangle(self):\n",
    "        \n",
    "        return (self.s*(self.s-self.a)*(self.s-self.b)*(self.s-self.c)) ** 0.5\n",
    "\n",
    "\n",
    "Area = Area_Of_Triangle()\n",
    "triangle_area = Area.areaoftriangle()\n",
    "print(triangle_area)\n"
   ]
  },
  {
   "cell_type": "markdown",
   "metadata": {},
   "source": [
    "1.2 Write a function filter_long_words() that takes a list of words and an integer n and returns the list of words that are longer than n."
   ]
  },
  {
   "cell_type": "code",
   "execution_count": 29,
   "metadata": {},
   "outputs": [
    {
     "name": "stdout",
     "output_type": "stream",
     "text": [
      "['Python', 'program', 'function', 'concept', 'integers', 'representing', 'lengths', 'corresponding']\n"
     ]
    }
   ],
   "source": [
    "def filter_long_words(list_words, n):\n",
    "    long_words = [word for word in list_words if len(word) > n]\n",
    "    return long_words\n",
    "\n",
    "sentence = 'Write a Python program using function concept that maps list of words into a list of integers representing the lengths of the corresponding word'\n",
    "words = sentence.split(' ')\n",
    "n = 5\n",
    "result = filter_long_words(words, n)    \n",
    "print(result)"
   ]
  },
  {
   "cell_type": "markdown",
   "metadata": {},
   "source": [
    "2.1 Write a Python program using function concept that maps list of words into a list of integers representing the lengths of the corresponding words.\n",
    "\n",
    "    Hint: If a list [ ab,cde,erty] is passed on to the python function output should come as [2,3,4]\n",
    "\n",
    "    Here 2,3 and 4 are the lengths of the words in the list."
   ]
  },
  {
   "cell_type": "code",
   "execution_count": 66,
   "metadata": {},
   "outputs": [
    {
     "name": "stdout",
     "output_type": "stream",
     "text": [
      "[[6], [7], [8], [7], [8], [12], [7], [13]]\n"
     ]
    }
   ],
   "source": [
    "def lenghtword(list_word):\n",
    "    lenwords = []\n",
    "    \n",
    "    lenwords.append(len(list_word))\n",
    "        \n",
    "    return lenwords\n",
    "        \n",
    "list_words = ['Python', 'program', 'function', 'concept', 'integers', 'representing', 'lengths', 'corresponding']\n",
    "\n",
    "result = map(lenghtword, list_words)\n",
    "print(list(result))"
   ]
  },
  {
   "cell_type": "markdown",
   "metadata": {},
   "source": [
    "2.2 Write a Python function which takes a character (i.e. a string of length 1) and returns True if it is a vowel, False otherwise."
   ]
  },
  {
   "cell_type": "code",
   "execution_count": 34,
   "metadata": {},
   "outputs": [
    {
     "name": "stdout",
     "output_type": "stream",
     "text": [
      "Enter a letter to check whether it is a vowel or not: e\n"
     ]
    },
    {
     "data": {
      "text/plain": [
       "True"
      ]
     },
     "execution_count": 34,
     "metadata": {},
     "output_type": "execute_result"
    }
   ],
   "source": [
    "def vowelornot(character):\n",
    "    vowels = ['A','E','I','O','U']\n",
    "    if character.upper() in vowels:\n",
    "        return True\n",
    "    else:\n",
    "        return False\n",
    "\n",
    "letter = input('Enter a letter to check whether it is a vowel or not: ')\n",
    "vowelornot(letter)\n"
   ]
  }
 ],
 "metadata": {
  "kernelspec": {
   "display_name": "Python 3",
   "language": "python",
   "name": "python3"
  },
  "language_info": {
   "codemirror_mode": {
    "name": "ipython",
    "version": 3
   },
   "file_extension": ".py",
   "mimetype": "text/x-python",
   "name": "python",
   "nbconvert_exporter": "python",
   "pygments_lexer": "ipython3",
   "version": "3.8.5"
  }
 },
 "nbformat": 4,
 "nbformat_minor": 4
}
