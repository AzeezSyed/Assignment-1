{
  "nbformat": 4,
  "nbformat_minor": 0,
  "metadata": {
    "colab": {
      "name": "Exception Handling Assignment.ipynb",
      "provenance": []
    },
    "kernelspec": {
      "name": "python3",
      "display_name": "Python 3"
    },
    "language_info": {
      "name": "python"
    }
  },
  "cells": [
    {
      "cell_type": "markdown",
      "metadata": {
        "id": "NMPoJG_hWGgL"
      },
      "source": [
        "Exception Handling Assignment"
      ]
    },
    {
      "cell_type": "markdown",
      "metadata": {
        "id": "hz1g5sxLVd6g"
      },
      "source": [
        "1. Write a function to compute 5/0 and use try/except to catch the exceptions."
      ]
    },
    {
      "cell_type": "markdown",
      "metadata": {
        "id": "21q6W7yaVqo-"
      },
      "source": [
        "Solution:"
      ]
    },
    {
      "cell_type": "code",
      "metadata": {
        "colab": {
          "base_uri": "https://localhost:8080/"
        },
        "id": "poC3FS7vUCeW",
        "outputId": "fb008a1f-42b3-44ac-b80c-8cc9dae56725"
      },
      "source": [
        "def compute(a,b):\n",
        "  try:\n",
        "    c = a/b\n",
        "    return c\n",
        "  except Exception as e:\n",
        "    return f\"Error in Diving a value with b, {e}\"\n",
        "\n",
        "a = 5\n",
        "b = 0\n",
        "result = compute(a, b)\n",
        "print(result)"
      ],
      "execution_count": 4,
      "outputs": [
        {
          "output_type": "stream",
          "text": [
            "Error in Diving a with b, division by zero\n"
          ],
          "name": "stdout"
        }
      ]
    },
    {
      "cell_type": "markdown",
      "metadata": {
        "id": "u1fOViy_WUaN"
      },
      "source": [
        "2. Implement a Python program to generate all sentences where subject is in\n",
        "[\"Americans\", \"Indians\"] and verb is in [\"Play\", \"watch\"] and the object is in\n",
        "[\"Baseball\",\"cricket\"].\n",
        "\n",
        "  Hint: Subject,Verb and Object should be declared in the program as shown below.\n",
        "\n",
        "  subjects=[\"Americans \",\"Indians\"]\n",
        "\n",
        "  verbs=[\"play\",\"watch\"]\n",
        "\n",
        "  objects=[\"Baseball\",\"Cricket\"]"
      ]
    },
    {
      "cell_type": "code",
      "metadata": {
        "colab": {
          "base_uri": "https://localhost:8080/"
        },
        "id": "gSmK2_0fU4Jj",
        "outputId": "3f9d1ced-8988-49f8-fa31-be1bb7676fa2"
      },
      "source": [
        "subjects=[\"Americans\",\"Indians\"]\n",
        "\n",
        "verbs=[\"play\",\"watch\"]\n",
        "\n",
        "objects=[\"Baseball\",\"Cricket\"]\n",
        "\n",
        "for subject in subjects:\n",
        "  for verb in verbs:\n",
        "    for object in objects:\n",
        "      print(subject, verb, object)"
      ],
      "execution_count": 13,
      "outputs": [
        {
          "output_type": "stream",
          "text": [
            "Americans play Baseball\n",
            "Americans play Cricket\n",
            "Americans watch Baseball\n",
            "Americans watch Cricket\n",
            "Indians play Baseball\n",
            "Indians play Cricket\n",
            "Indians watch Baseball\n",
            "Indians watch Cricket\n"
          ],
          "name": "stdout"
        }
      ]
    },
    {
      "cell_type": "code",
      "metadata": {
        "id": "hElY9TZfVAsl"
      },
      "source": [
        ""
      ],
      "execution_count": null,
      "outputs": []
    }
  ]
}